{
 "cells": [
  {
   "metadata": {
    "collapsed": true,
    "ExecuteTime": {
     "end_time": "2024-09-24T20:18:05.861188Z",
     "start_time": "2024-09-24T20:18:04.077234Z"
    }
   },
   "cell_type": "code",
   "source": [
    "import pandas as pd\n",
    "import numpy as np\n",
    "\n",
    "# Manipulation de données\n",
    "\n",
    "# j'ai récupéré un dataset de 23000 données sur github https://github.com/kirill-menke/house-pricing-prediction/blob/main/data/apartments_train.csv, le format ne correspond pas à ce que je veux, je vais donc le modifier pour qu'il corresponde aux attentes.\n",
    "# voilà les colonnes du fichier id,seller,price,area_total,area_kitchen,area_living,floor,rooms,layout,ceiling,bathrooms_shared,bathrooms_private,windows_court,windows_street,balconies,loggias,condition,phones,building_id\n",
    "# et voilà ce que je veux : id,annee,balcon,garage,note,price_category\n",
    "\n",
    "db = pd.read_csv('data/github_appartements.csv')\n",
    "\n",
    "# 1. Supprimer les colonnes inutiles\n",
    "db = db.drop(columns=['seller', 'area_kitchen', 'area_living', 'floor', 'layout', 'ceiling', 'bathrooms_shared', 'bathrooms_private', 'windows_court', 'windows_street', 'loggias', 'condition', 'phones', 'building_id'])\n",
    "# 2. Renommer les colonnes pour qu'elles correspondent à ce que je veux\n",
    "db = db.rename(columns={'area_total': 'surface', 'balconies': 'balcon', 'rooms': 'nbRooms'})\n",
    "# 3. Ajouter une colonne annee qui correspond à l'année de construction de l'appartement\n",
    "db['annee'] = np.random.randint(2005, 2024, db.shape[0]) # j'accepte que l'année soit aléatoire et non cohérente ;)\n",
    "db['garage'] = np.random.choice([True, False], db.shape[0])\n",
    "db['price_category'] = np.random.choice(['low', 'medium', 'high', 'scam'], db.shape[0], p=[0.3, 0.6, 0.09, 0.01])\n",
    "db['note'] = np.random.randint(1, 5, db.shape[0])\n",
    "\n",
    "db['annee'] = 2024 - (9 * db['price'] / db['price'].max()).astype(int)\n",
    "db['annee'] = db['annee'].clip(2024, 2005)\n",
    "price_percentile = db['price'].rank(pct=True)\n",
    "db['garage'] = np.random.rand(len(db)) < price_percentile\n",
    "\n",
    "# Function to categorize price\n",
    "def categorize_price(row):\n",
    "    price_per_sqm = row['price'] / row['surface']\n",
    "    if price_per_sqm < 150000:\n",
    "        return 'low'\n",
    "    elif price_per_sqm < 200000:\n",
    "        return 'normal'\n",
    "    elif price_per_sqm < 500000:\n",
    "        return 'high'\n",
    "    else:\n",
    "        return 'scam'\n",
    "\n",
    "# Add 'price_category' column\n",
    "db['price_category'] = db.apply(categorize_price, axis=1)\n",
    "\n",
    "# Add 'note' column (influenced by price_category and features)\n",
    "def assign_note(row):\n",
    "    base_note = {'low': 2, 'normal': 3, 'high': 4, 'scam': 1}[row['price_category']]\n",
    "\n",
    "    # Adjust based on features\n",
    "    if row['garage']:\n",
    "        base_note += 0.5\n",
    "    if row['nbRooms'] > 2:\n",
    "        base_note += 0.5\n",
    "    if row['surface'] > db['surface'].median():\n",
    "        base_note += 0.5\n",
    "\n",
    "    return min(round(base_note), 5)  # Cap at 5\n",
    "\n",
    "db['note'] = db.apply(assign_note, axis=1)\n",
    "\n",
    "db.to_csv('data/appartements.csv', index=False)\n",
    "\n",
    "db.head()"
   ],
   "id": "initial_id",
   "outputs": [
    {
     "data": {
      "text/plain": [
       "   id       price  surface  nbRooms  balcon  annee  garage price_category  \\\n",
       "0   0   7139520.0     59.2      2.0     NaN   2024    True            low   \n",
       "1   1  10500000.0     88.0      3.0     1.0   2024    True            low   \n",
       "2   2   9019650.0     78.5      3.0     NaN   2024    True            low   \n",
       "3   3  10500000.0     88.0      3.0     0.0   2024   False            low   \n",
       "4   4  13900000.0     78.0      2.0     0.0   2024   False         normal   \n",
       "\n",
       "   note  \n",
       "0     2  \n",
       "1     4  \n",
       "2     4  \n",
       "3     3  \n",
       "4     4  "
      ],
      "text/html": [
       "<div>\n",
       "<style scoped>\n",
       "    .dataframe tbody tr th:only-of-type {\n",
       "        vertical-align: middle;\n",
       "    }\n",
       "\n",
       "    .dataframe tbody tr th {\n",
       "        vertical-align: top;\n",
       "    }\n",
       "\n",
       "    .dataframe thead th {\n",
       "        text-align: right;\n",
       "    }\n",
       "</style>\n",
       "<table border=\"1\" class=\"dataframe\">\n",
       "  <thead>\n",
       "    <tr style=\"text-align: right;\">\n",
       "      <th></th>\n",
       "      <th>id</th>\n",
       "      <th>price</th>\n",
       "      <th>surface</th>\n",
       "      <th>nbRooms</th>\n",
       "      <th>balcon</th>\n",
       "      <th>annee</th>\n",
       "      <th>garage</th>\n",
       "      <th>price_category</th>\n",
       "      <th>note</th>\n",
       "    </tr>\n",
       "  </thead>\n",
       "  <tbody>\n",
       "    <tr>\n",
       "      <th>0</th>\n",
       "      <td>0</td>\n",
       "      <td>7139520.0</td>\n",
       "      <td>59.2</td>\n",
       "      <td>2.0</td>\n",
       "      <td>NaN</td>\n",
       "      <td>2024</td>\n",
       "      <td>True</td>\n",
       "      <td>low</td>\n",
       "      <td>2</td>\n",
       "    </tr>\n",
       "    <tr>\n",
       "      <th>1</th>\n",
       "      <td>1</td>\n",
       "      <td>10500000.0</td>\n",
       "      <td>88.0</td>\n",
       "      <td>3.0</td>\n",
       "      <td>1.0</td>\n",
       "      <td>2024</td>\n",
       "      <td>True</td>\n",
       "      <td>low</td>\n",
       "      <td>4</td>\n",
       "    </tr>\n",
       "    <tr>\n",
       "      <th>2</th>\n",
       "      <td>2</td>\n",
       "      <td>9019650.0</td>\n",
       "      <td>78.5</td>\n",
       "      <td>3.0</td>\n",
       "      <td>NaN</td>\n",
       "      <td>2024</td>\n",
       "      <td>True</td>\n",
       "      <td>low</td>\n",
       "      <td>4</td>\n",
       "    </tr>\n",
       "    <tr>\n",
       "      <th>3</th>\n",
       "      <td>3</td>\n",
       "      <td>10500000.0</td>\n",
       "      <td>88.0</td>\n",
       "      <td>3.0</td>\n",
       "      <td>0.0</td>\n",
       "      <td>2024</td>\n",
       "      <td>False</td>\n",
       "      <td>low</td>\n",
       "      <td>3</td>\n",
       "    </tr>\n",
       "    <tr>\n",
       "      <th>4</th>\n",
       "      <td>4</td>\n",
       "      <td>13900000.0</td>\n",
       "      <td>78.0</td>\n",
       "      <td>2.0</td>\n",
       "      <td>0.0</td>\n",
       "      <td>2024</td>\n",
       "      <td>False</td>\n",
       "      <td>normal</td>\n",
       "      <td>4</td>\n",
       "    </tr>\n",
       "  </tbody>\n",
       "</table>\n",
       "</div>"
      ]
     },
     "execution_count": 3,
     "metadata": {},
     "output_type": "execute_result"
    }
   ],
   "execution_count": 3
  },
  {
   "metadata": {
    "ExecuteTime": {
     "end_time": "2024-09-24T20:18:06.571973Z",
     "start_time": "2024-09-24T20:18:06.553382Z"
    }
   },
   "cell_type": "code",
   "source": [
    "# 3. Avec Numpy et Pandas:\n",
    "# - Sur la surface: Moyenne, écart-type, surface minimale et maximale.\n",
    "db = pd.read_csv('data/appartements.csv')\n",
    "\n",
    "# Moyenne, écart-type, surface minimale et maximale\n",
    "surface_mean = db['surface'].mean()\n",
    "surface_std = db['surface'].std()\n",
    "surface_min = db['surface'].min()\n",
    "surface_max = db['surface'].max()\n",
    "\n",
    "print(f\"Surface: moyenne={surface_mean}, ecart-type={surface_std}, min={surface_min}, max={surface_max}\")"
   ],
   "id": "7eb8f0062e5bc757",
   "outputs": [
    {
     "name": "stdout",
     "output_type": "stream",
     "text": [
      "Surface: moyenne=74.45099935580846, ecart-type=58.67137288575908, min=9.3, max=2181.0\n"
     ]
    }
   ],
   "execution_count": 4
  },
  {
   "metadata": {
    "ExecuteTime": {
     "end_time": "2024-09-24T20:18:07.752207Z",
     "start_time": "2024-09-24T20:18:07.742973Z"
    }
   },
   "cell_type": "code",
   "source": [
    "# - Sur l'annee: Moyenne, construction la plus ancienne, la plus récente.\n",
    "\n",
    "annee_mean = db['annee'].mean()\n",
    "oldest_year_rows = db[db['annee'] == db['annee'].min()]\n",
    "latest_year_rows = db[db['annee'] == db['annee'].max()]\n",
    "\n",
    "print(annee_mean)\n",
    "print(oldest_year_rows.head())\n",
    "print(latest_year_rows.head())"
   ],
   "id": "ebd8dd1606b6f8ac",
   "outputs": [
    {
     "name": "stdout",
     "output_type": "stream",
     "text": [
      "2023.993300407988\n",
      "          id         price  surface  nbRooms  balcon  annee  garage  \\\n",
      "3217    3217  2.600000e+09   2181.0      6.0     NaN   2015    True   \n",
      "21414  21414  2.600000e+09   2181.0      1.0     NaN   2015    True   \n",
      "\n",
      "      price_category  note  \n",
      "3217            scam     2  \n",
      "21414           scam     2  \n",
      "   id       price  surface  nbRooms  balcon  annee  garage price_category  \\\n",
      "0   0   7139520.0     59.2      2.0     NaN   2024    True            low   \n",
      "1   1  10500000.0     88.0      3.0     1.0   2024    True            low   \n",
      "2   2   9019650.0     78.5      3.0     NaN   2024    True            low   \n",
      "3   3  10500000.0     88.0      3.0     0.0   2024   False            low   \n",
      "4   4  13900000.0     78.0      2.0     0.0   2024   False         normal   \n",
      "\n",
      "   note  \n",
      "0     2  \n",
      "1     4  \n",
      "2     4  \n",
      "3     3  \n",
      "4     4  \n"
     ]
    }
   ],
   "execution_count": 5
  },
  {
   "metadata": {
    "ExecuteTime": {
     "end_time": "2024-09-24T20:18:08.606635Z",
     "start_time": "2024-09-24T20:18:08.603066Z"
    }
   },
   "cell_type": "code",
   "source": [
    "# - Sur le balcon: Proportion d'appartements avec un balcon.\n",
    "\n",
    "balcon_proportion = db['balcon'].mean()\n",
    "print(\"proportion de bien avec un balcon\", balcon_proportion * 100, \"%\")"
   ],
   "id": "916c694d8d2586cb",
   "outputs": [
    {
     "name": "stdout",
     "output_type": "stream",
     "text": [
      "proportion de bien avec un balcon 55.636506071288686 %\n"
     ]
    }
   ],
   "execution_count": 6
  },
  {
   "metadata": {
    "ExecuteTime": {
     "end_time": "2024-09-24T20:18:09.341572Z",
     "start_time": "2024-09-24T20:18:09.334746Z"
    }
   },
   "cell_type": "code",
   "source": [
    "# - Comptage du nombre d'appartements dans chaque catégorie de prix.\n",
    "\n",
    "db['price_category'].value_counts()\n"
   ],
   "id": "f0bff5642fcdf114",
   "outputs": [
    {
     "data": {
      "text/plain": [
       "price_category\n",
       "high      9755\n",
       "normal    7740\n",
       "low       4261\n",
       "scam      1529\n",
       "Name: count, dtype: int64"
      ]
     },
     "execution_count": 7,
     "metadata": {},
     "output_type": "execute_result"
    }
   ],
   "execution_count": 7
  },
  {
   "metadata": {
    "ExecuteTime": {
     "end_time": "2024-09-24T20:18:10.061913Z",
     "start_time": "2024-09-24T20:18:10.056841Z"
    }
   },
   "cell_type": "code",
   "source": [
    "# Nombre de chambre par appartement (nbRooms) : Moyenne, médianne, variance, écart-type\n",
    "\n",
    "nbRoomsMean = db['nbRooms'].mean()\n",
    "nbRoomsMedian = db['nbRooms'].median()\n",
    "nbRoomsVar = db['nbRooms'].var()\n",
    "nbRoomsEcartType = db['nbRooms'].std()\n",
    "\n",
    "print(f\"Moyenne={nbRoomsMean}, Médiane={nbRoomsMedian}, Variance={nbRoomsVar}, Ecart-type={nbRoomsEcartType}\")"
   ],
   "id": "d3b6841f96409bb2",
   "outputs": [
    {
     "name": "stdout",
     "output_type": "stream",
     "text": [
      "Moyenne=2.189349366544986, Médiane=2.0, Variance=1.1580552586713442, Ecart-type=1.0761297592164916\n"
     ]
    }
   ],
   "execution_count": 8
  },
  {
   "metadata": {
    "ExecuteTime": {
     "end_time": "2024-09-24T20:18:11.017611Z",
     "start_time": "2024-09-24T20:18:10.820643Z"
    }
   },
   "cell_type": "code",
   "source": [
    "# Avec Matplop:\n",
    "# Créer un Diagramme à barres pour afficher la répartition des catégories de prix (par exemple, combien d'appartements sont \"low\", \"normal\", \"high\", \"scam\").\n",
    "\n",
    "import matplotlib.pyplot as plt\n",
    "\n",
    "db['price_category'].value_counts().plot(kind='bar')\n",
    "plt.show()\n"
   ],
   "id": "b7c78a95bd9c9f25",
   "outputs": [
    {
     "data": {
      "text/plain": [
       "<Figure size 640x480 with 1 Axes>"
      ],
      "image/png": "[encoded data removed]"
     },
     "metadata": {},
     "output_type": "display_data"
    }
   ],
   "execution_count": 9
  },
  {
   "metadata": {
    "ExecuteTime": {
     "end_time": "2024-09-24T20:18:12.331477Z",
     "start_time": "2024-09-24T20:18:12.184999Z"
    }
   },
   "cell_type": "code",
   "source": [
    "# Bonus: heatmap pour voir la correlation entre Année de construction et prix afin de voir si les appartements plus récents ont tendance à être plus chers.\n",
    "\n",
    "db.plot.scatter(x='annee', y='price')\n",
    "plt.show()\n",
    "\n",
    "print(\"On peut voir que les prix des appartements descendent avec l'année de construction\")\n",
    "print(\"c'est normal car c'est comme ça que j'ai généré les données ;)\")"
   ],
   "id": "1108d1551dbc900e",
   "outputs": [
    {
     "data": {
      "text/plain": [
       "<Figure size 640x480 with 1 Axes>"
      ],
      "image/png": "[encoded data removed]"
     },
     "metadata": {},
     "output_type": "display_data"
    },
    {
     "name": "stdout",
     "output_type": "stream",
     "text": [
      "On peut voir que les prix des appartements descendent avec l'année de construction\n",
      "c'est normal car c'est comme ça que j'ai généré les données ;)\n"
     ]
    }
   ],
   "execution_count": 10
  },
  {
   "metadata": {
    "ExecuteTime": {
     "end_time": "2024-09-24T21:18:23.175384Z",
     "start_time": "2024-09-24T21:18:23.097221Z"
    }
   },
   "cell_type": "code",
   "source": [
    "# 1. Compléter avec une nouvelle colonne ville dans votre dataset si l'appartement est de Lyon, Paris ou Marseille\n",
    "db['city'] = np.random.choice(['Lyon', 'Paris', 'Marseille'],db.shape[0],p=[0.2,0.5,0.3])\n",
    "db.to_csv('data/appartements.csv', index=False)\n",
    "\n",
    "db.head()"
   ],
   "id": "92d6256399e65b23",
   "outputs": [
    {
     "data": {
      "text/plain": [
       "   id       price  surface  nbRooms  balcon  annee  garage price_category  \\\n",
       "0   0   7139520.0     59.2      2.0     NaN   2024    True            low   \n",
       "1   1  10500000.0     88.0      3.0     1.0   2024    True            low   \n",
       "2   2   9019650.0     78.5      3.0     NaN   2024    True            low   \n",
       "3   3  10500000.0     88.0      3.0     0.0   2024   False            low   \n",
       "4   4  13900000.0     78.0      2.0     0.0   2024   False         normal   \n",
       "\n",
       "   note       city  \n",
       "0     2  Marseille  \n",
       "1     4      Paris  \n",
       "2     4  Marseille  \n",
       "3     3  Marseille  \n",
       "4     4  Marseille  "
      ],
      "text/html": [
       "<div>\n",
       "<style scoped>\n",
       "    .dataframe tbody tr th:only-of-type {\n",
       "        vertical-align: middle;\n",
       "    }\n",
       "\n",
       "    .dataframe tbody tr th {\n",
       "        vertical-align: top;\n",
       "    }\n",
       "\n",
       "    .dataframe thead th {\n",
       "        text-align: right;\n",
       "    }\n",
       "</style>\n",
       "<table border=\"1\" class=\"dataframe\">\n",
       "  <thead>\n",
       "    <tr style=\"text-align: right;\">\n",
       "      <th></th>\n",
       "      <th>id</th>\n",
       "      <th>price</th>\n",
       "      <th>surface</th>\n",
       "      <th>nbRooms</th>\n",
       "      <th>balcon</th>\n",
       "      <th>annee</th>\n",
       "      <th>garage</th>\n",
       "      <th>price_category</th>\n",
       "      <th>note</th>\n",
       "      <th>city</th>\n",
       "    </tr>\n",
       "  </thead>\n",
       "  <tbody>\n",
       "    <tr>\n",
       "      <th>0</th>\n",
       "      <td>0</td>\n",
       "      <td>7139520.0</td>\n",
       "      <td>59.2</td>\n",
       "      <td>2.0</td>\n",
       "      <td>NaN</td>\n",
       "      <td>2024</td>\n",
       "      <td>True</td>\n",
       "      <td>low</td>\n",
       "      <td>2</td>\n",
       "      <td>Marseille</td>\n",
       "    </tr>\n",
       "    <tr>\n",
       "      <th>1</th>\n",
       "      <td>1</td>\n",
       "      <td>10500000.0</td>\n",
       "      <td>88.0</td>\n",
       "      <td>3.0</td>\n",
       "      <td>1.0</td>\n",
       "      <td>2024</td>\n",
       "      <td>True</td>\n",
       "      <td>low</td>\n",
       "      <td>4</td>\n",
       "      <td>Paris</td>\n",
       "    </tr>\n",
       "    <tr>\n",
       "      <th>2</th>\n",
       "      <td>2</td>\n",
       "      <td>9019650.0</td>\n",
       "      <td>78.5</td>\n",
       "      <td>3.0</td>\n",
       "      <td>NaN</td>\n",
       "      <td>2024</td>\n",
       "      <td>True</td>\n",
       "      <td>low</td>\n",
       "      <td>4</td>\n",
       "      <td>Marseille</td>\n",
       "    </tr>\n",
       "    <tr>\n",
       "      <th>3</th>\n",
       "      <td>3</td>\n",
       "      <td>10500000.0</td>\n",
       "      <td>88.0</td>\n",
       "      <td>3.0</td>\n",
       "      <td>0.0</td>\n",
       "      <td>2024</td>\n",
       "      <td>False</td>\n",
       "      <td>low</td>\n",
       "      <td>3</td>\n",
       "      <td>Marseille</td>\n",
       "    </tr>\n",
       "    <tr>\n",
       "      <th>4</th>\n",
       "      <td>4</td>\n",
       "      <td>13900000.0</td>\n",
       "      <td>78.0</td>\n",
       "      <td>2.0</td>\n",
       "      <td>0.0</td>\n",
       "      <td>2024</td>\n",
       "      <td>False</td>\n",
       "      <td>normal</td>\n",
       "      <td>4</td>\n",
       "      <td>Marseille</td>\n",
       "    </tr>\n",
       "  </tbody>\n",
       "</table>\n",
       "</div>"
      ]
     },
     "execution_count": 24,
     "metadata": {},
     "output_type": "execute_result"
    }
   ],
   "execution_count": 24
  },
  {
   "metadata": {
    "ExecuteTime": {
     "end_time": "2024-09-24T21:17:24.800355Z",
     "start_time": "2024-09-24T21:17:24.760712Z"
    }
   },
   "cell_type": "code",
   "source": [
    "# 2. Créer une prédiction par regression linéaire sur la note en fonction de la ville, de la surface et du prix\n",
    "from sklearn.linear_model import LinearRegression\n",
    "from sklearn.model_selection import train_test_split\n",
    "\n",
    "X = pd.get_dummies(db[['surface', 'price', 'city']])\n",
    "y = db['note']\n",
    "\n",
    "X_train, X_test, y_train, y_test = train_test_split(X, y, test_size=0.2)\n",
    "\n",
    "model = LinearRegression()\n",
    "model.fit(X_train, y_train)\n",
    "\n",
    "y_pred = model.predict(X_test)\n",
    "\n",
    "from sklearn.metrics import r2_score, mean_squared_error\n",
    "\n",
    "r2 = r2_score(y_test, y_pred)\n",
    "mse = mean_squared_error(y_test, y_pred)\n",
    "print(f\"R2={r2}, MSE={mse}\")"
   ],
   "id": "4dd5e7b0a62ccac2",
   "outputs": [
    {
     "name": "stdout",
     "output_type": "stream",
     "text": [
      "R2=0.09140542701293186, MSE=0.930636936363423\n"
     ]
    }
   ],
   "execution_count": 22
  },
  {
   "metadata": {
    "ExecuteTime": {
     "end_time": "2024-09-24T20:18:15.876744Z",
     "start_time": "2024-09-24T20:18:15.809968Z"
    }
   },
   "cell_type": "code",
   "source": [
    "# 3. Créer une prédiction par regression linéaire sur l'année en fonction de la ville puis donnéer sa propabilité (R2) et son taux d'erreur en année (RSME ou MSE)\n",
    "\n",
    "X = pd.get_dummies(db[['city']])\n",
    "y = db['annee']\n",
    "\n",
    "X_train, X_test, y_train, y_test = train_test_split(X, y, test_size=0.2)\n",
    "\n",
    "model = LinearRegression()\n",
    "model.fit(X_train, y_train)\n",
    "\n",
    "y_pred = model.predict(X_test)\n",
    "\n",
    "r2 = r2_score(y_test, y_pred)\n",
    "rmse = mean_squared_error(y_test, y_pred)\n",
    "print(f\"R2={r2}, RMSE={rmse}\")"
   ],
   "id": "979656898696cf4",
   "outputs": [
    {
     "name": "stdout",
     "output_type": "stream",
     "text": [
      "R2=-0.00013123232364464776, RMSE=0.014985886485127348\n"
     ]
    }
   ],
   "execution_count": 13
  },
  {
   "metadata": {
    "ExecuteTime": {
     "end_time": "2024-09-24T20:18:17.314776Z",
     "start_time": "2024-09-24T20:18:16.973593Z"
    }
   },
   "cell_type": "code",
   "source": [
    "# 4. Créer une classification logistique pour savoir si il y a un garage en fonction du prix et de la ville\n",
    "from sklearn.linear_model import LogisticRegression\n",
    "\n",
    "X = pd.get_dummies(db[['price', 'city']])\n",
    "y = db['garage']\n",
    "\n",
    "X_train, X_test, y_train, y_test = train_test_split(X, y, test_size=0.2)\n",
    "\n",
    "model = LogisticRegression()\n",
    "model.fit(X_train, y_train)\n",
    "\n",
    "y_pred = model.predict(X_test)\n",
    "\n",
    "from sklearn.metrics import accuracy_score, recall_score, f1_score\n",
    "\n",
    "logistic_accuracy = accuracy_score(y_test, y_pred)\n",
    "logistic_recall = recall_score(y_test, y_pred)\n",
    "logistic_f1 = f1_score(y_test, y_pred)"
   ],
   "id": "7af1fc707219ce40",
   "outputs": [],
   "execution_count": 14
  },
  {
   "metadata": {
    "ExecuteTime": {
     "end_time": "2024-09-24T20:21:19.149752Z",
     "start_time": "2024-09-24T20:21:19.079354Z"
    }
   },
   "cell_type": "code",
   "source": [
    "# 5. Créer une classification par KNN pour savoir si il a un balcon en fonction du prix et de la ville\n",
    "from sklearn.neighbors import KNeighborsClassifier\n",
    "\n",
    "dropped_db = db.dropna()\n",
    "\n",
    "X = pd.get_dummies(dropped_db[['price', 'city']])\n",
    "y = dropped_db['balcon']\n",
    "\n",
    "X_train, X_test, y_train, y_test = train_test_split(X, y, test_size=0.2)\n",
    "\n",
    "model = KNeighborsClassifier()\n",
    "model.fit(X_train, y_train)\n",
    "\n",
    "y_pred = model.predict(X_test)\n",
    "\n",
    "knn_accuracy = accuracy_score(y_test, y_pred)\n",
    "knn_recall = recall_score(y_test, y_pred,  average='macro')\n",
    "knn_f1 = f1_score(y_test, y_pred,  average='macro')"
   ],
   "id": "f1924b6b99f8a20f",
   "outputs": [],
   "execution_count": 19
  },
  {
   "metadata": {
    "ExecuteTime": {
     "end_time": "2024-09-24T20:21:30.336508Z",
     "start_time": "2024-09-24T20:21:30.331618Z"
    }
   },
   "cell_type": "code",
   "source": [
    "# 6.  Pour les 2 classification précédente: afficher le accuracy, recall puis F1 Score\n",
    "print(pd.DataFrame({\n",
    "    'Logistic Regression': [logistic_accuracy, logistic_recall, logistic_f1],\n",
    "    'KNN': [knn_accuracy, knn_recall, knn_f1]\n",
    "}, index=['Accuracy', 'Recall', 'F1 Score']))"
   ],
   "id": "41f13cd9630065de",
   "outputs": [
    {
     "name": "stdout",
     "output_type": "stream",
     "text": [
      "          Logistic Regression       KNN\n",
      "Accuracy             0.721280  0.519389\n",
      "Recall               0.565901  0.221071\n",
      "F1 Score             0.672222  0.216377\n"
     ]
    }
   ],
   "execution_count": 21
  },
  {
   "metadata": {},
   "cell_type": "code",
   "outputs": [],
   "execution_count": null,
   "source": "",
   "id": "139cc5a82cac73bc"
  }
 ],
 "metadata": {
  "kernelspec": {
   "display_name": "Python 3",
   "language": "python",
   "name": "python3"
  },
  "language_info": {
   "codemirror_mode": {
    "name": "ipython",
    "version": 2
   },
   "file_extension": ".py",
   "mimetype": "text/x-python",
   "name": "python",
   "nbconvert_exporter": "python",
   "pygments_lexer": "ipython2",
   "version": "2.7.6"
  }
 },
 "nbformat": 4,
 "nbformat_minor": 5
}
